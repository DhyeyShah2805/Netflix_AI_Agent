{
 "cells": [
  {
   "cell_type": "markdown",
   "id": "13a1d1bb",
   "metadata": {},
   "source": [
    "NETFLIX DATASET DATA ANALYSIS"
   ]
  },
  {
   "cell_type": "code",
   "execution_count": 17,
   "id": "02199d71",
   "metadata": {},
   "outputs": [],
   "source": [
    "import seaborn as sns\n",
    "import numpy as np\n",
    "import pandas as pd\n",
    "from matplotlib import pyplot as plt\n",
    "import ast"
   ]
  },
  {
   "cell_type": "code",
   "execution_count": 3,
   "id": "69767afe",
   "metadata": {},
   "outputs": [],
   "source": [
    "df = pd.read_csv('titles.csv')"
   ]
  },
  {
   "cell_type": "code",
   "execution_count": 4,
   "id": "913939c5",
   "metadata": {},
   "outputs": [
    {
     "data": {
      "text/html": [
       "<div>\n",
       "<style scoped>\n",
       "    .dataframe tbody tr th:only-of-type {\n",
       "        vertical-align: middle;\n",
       "    }\n",
       "\n",
       "    .dataframe tbody tr th {\n",
       "        vertical-align: top;\n",
       "    }\n",
       "\n",
       "    .dataframe thead th {\n",
       "        text-align: right;\n",
       "    }\n",
       "</style>\n",
       "<table border=\"1\" class=\"dataframe\">\n",
       "  <thead>\n",
       "    <tr style=\"text-align: right;\">\n",
       "      <th></th>\n",
       "      <th>id</th>\n",
       "      <th>title</th>\n",
       "      <th>type</th>\n",
       "      <th>description</th>\n",
       "      <th>release_year</th>\n",
       "      <th>age_certification</th>\n",
       "      <th>runtime</th>\n",
       "      <th>genres</th>\n",
       "      <th>production_countries</th>\n",
       "      <th>seasons</th>\n",
       "      <th>imdb_id</th>\n",
       "      <th>imdb_score</th>\n",
       "      <th>imdb_votes</th>\n",
       "      <th>tmdb_popularity</th>\n",
       "      <th>tmdb_score</th>\n",
       "    </tr>\n",
       "  </thead>\n",
       "  <tbody>\n",
       "    <tr>\n",
       "      <th>0</th>\n",
       "      <td>ts300399</td>\n",
       "      <td>Five Came Back: The Reference Films</td>\n",
       "      <td>SHOW</td>\n",
       "      <td>This collection includes 12 World War II-era p...</td>\n",
       "      <td>1945</td>\n",
       "      <td>TV-MA</td>\n",
       "      <td>51</td>\n",
       "      <td>['documentation']</td>\n",
       "      <td>['US']</td>\n",
       "      <td>1.0</td>\n",
       "      <td>NaN</td>\n",
       "      <td>NaN</td>\n",
       "      <td>NaN</td>\n",
       "      <td>0.600</td>\n",
       "      <td>NaN</td>\n",
       "    </tr>\n",
       "    <tr>\n",
       "      <th>1</th>\n",
       "      <td>tm84618</td>\n",
       "      <td>Taxi Driver</td>\n",
       "      <td>MOVIE</td>\n",
       "      <td>A mentally unstable Vietnam War veteran works ...</td>\n",
       "      <td>1976</td>\n",
       "      <td>R</td>\n",
       "      <td>114</td>\n",
       "      <td>['drama', 'crime']</td>\n",
       "      <td>['US']</td>\n",
       "      <td>NaN</td>\n",
       "      <td>tt0075314</td>\n",
       "      <td>8.2</td>\n",
       "      <td>808582.0</td>\n",
       "      <td>40.965</td>\n",
       "      <td>8.179</td>\n",
       "    </tr>\n",
       "    <tr>\n",
       "      <th>2</th>\n",
       "      <td>tm154986</td>\n",
       "      <td>Deliverance</td>\n",
       "      <td>MOVIE</td>\n",
       "      <td>Intent on seeing the Cahulawassee River before...</td>\n",
       "      <td>1972</td>\n",
       "      <td>R</td>\n",
       "      <td>109</td>\n",
       "      <td>['drama', 'action', 'thriller', 'european']</td>\n",
       "      <td>['US']</td>\n",
       "      <td>NaN</td>\n",
       "      <td>tt0068473</td>\n",
       "      <td>7.7</td>\n",
       "      <td>107673.0</td>\n",
       "      <td>10.010</td>\n",
       "      <td>7.300</td>\n",
       "    </tr>\n",
       "    <tr>\n",
       "      <th>3</th>\n",
       "      <td>tm127384</td>\n",
       "      <td>Monty Python and the Holy Grail</td>\n",
       "      <td>MOVIE</td>\n",
       "      <td>King Arthur, accompanied by his squire, recrui...</td>\n",
       "      <td>1975</td>\n",
       "      <td>PG</td>\n",
       "      <td>91</td>\n",
       "      <td>['fantasy', 'action', 'comedy']</td>\n",
       "      <td>['GB']</td>\n",
       "      <td>NaN</td>\n",
       "      <td>tt0071853</td>\n",
       "      <td>8.2</td>\n",
       "      <td>534486.0</td>\n",
       "      <td>15.461</td>\n",
       "      <td>7.811</td>\n",
       "    </tr>\n",
       "    <tr>\n",
       "      <th>4</th>\n",
       "      <td>tm120801</td>\n",
       "      <td>The Dirty Dozen</td>\n",
       "      <td>MOVIE</td>\n",
       "      <td>12 American military prisoners in World War II...</td>\n",
       "      <td>1967</td>\n",
       "      <td>NaN</td>\n",
       "      <td>150</td>\n",
       "      <td>['war', 'action']</td>\n",
       "      <td>['GB', 'US']</td>\n",
       "      <td>NaN</td>\n",
       "      <td>tt0061578</td>\n",
       "      <td>7.7</td>\n",
       "      <td>72662.0</td>\n",
       "      <td>20.398</td>\n",
       "      <td>7.600</td>\n",
       "    </tr>\n",
       "  </tbody>\n",
       "</table>\n",
       "</div>"
      ],
      "text/plain": [
       "         id                                title   type  \\\n",
       "0  ts300399  Five Came Back: The Reference Films   SHOW   \n",
       "1   tm84618                          Taxi Driver  MOVIE   \n",
       "2  tm154986                          Deliverance  MOVIE   \n",
       "3  tm127384      Monty Python and the Holy Grail  MOVIE   \n",
       "4  tm120801                      The Dirty Dozen  MOVIE   \n",
       "\n",
       "                                         description  release_year  \\\n",
       "0  This collection includes 12 World War II-era p...          1945   \n",
       "1  A mentally unstable Vietnam War veteran works ...          1976   \n",
       "2  Intent on seeing the Cahulawassee River before...          1972   \n",
       "3  King Arthur, accompanied by his squire, recrui...          1975   \n",
       "4  12 American military prisoners in World War II...          1967   \n",
       "\n",
       "  age_certification  runtime                                       genres  \\\n",
       "0             TV-MA       51                            ['documentation']   \n",
       "1                 R      114                           ['drama', 'crime']   \n",
       "2                 R      109  ['drama', 'action', 'thriller', 'european']   \n",
       "3                PG       91              ['fantasy', 'action', 'comedy']   \n",
       "4               NaN      150                            ['war', 'action']   \n",
       "\n",
       "  production_countries  seasons    imdb_id  imdb_score  imdb_votes  \\\n",
       "0               ['US']      1.0        NaN         NaN         NaN   \n",
       "1               ['US']      NaN  tt0075314         8.2    808582.0   \n",
       "2               ['US']      NaN  tt0068473         7.7    107673.0   \n",
       "3               ['GB']      NaN  tt0071853         8.2    534486.0   \n",
       "4         ['GB', 'US']      NaN  tt0061578         7.7     72662.0   \n",
       "\n",
       "   tmdb_popularity  tmdb_score  \n",
       "0            0.600         NaN  \n",
       "1           40.965       8.179  \n",
       "2           10.010       7.300  \n",
       "3           15.461       7.811  \n",
       "4           20.398       7.600  "
      ]
     },
     "execution_count": 4,
     "metadata": {},
     "output_type": "execute_result"
    }
   ],
   "source": [
    "df.head()"
   ]
  },
  {
   "cell_type": "code",
   "execution_count": 5,
   "id": "7c6c6d30",
   "metadata": {},
   "outputs": [
    {
     "data": {
      "text/plain": [
       "id                         0\n",
       "title                      1\n",
       "type                       0\n",
       "description               18\n",
       "release_year               0\n",
       "age_certification       2619\n",
       "runtime                    0\n",
       "genres                     0\n",
       "production_countries       0\n",
       "seasons                 3744\n",
       "imdb_id                  403\n",
       "imdb_score               482\n",
       "imdb_votes               498\n",
       "tmdb_popularity           91\n",
       "tmdb_score               311\n",
       "dtype: int64"
      ]
     },
     "execution_count": 5,
     "metadata": {},
     "output_type": "execute_result"
    }
   ],
   "source": [
    "df.isnull().sum()"
   ]
  },
  {
   "cell_type": "code",
   "execution_count": 6,
   "id": "1d249f48",
   "metadata": {},
   "outputs": [
    {
     "data": {
      "text/plain": [
       "(5850, 15)"
      ]
     },
     "execution_count": 6,
     "metadata": {},
     "output_type": "execute_result"
    }
   ],
   "source": [
    "df.shape"
   ]
  },
  {
   "cell_type": "markdown",
   "id": "7efc8b92",
   "metadata": {},
   "source": [
    "DATA CLEANING PROCESS COLUMN BY COLUMN"
   ]
  },
  {
   "cell_type": "code",
   "execution_count": 7,
   "id": "56c59209",
   "metadata": {},
   "outputs": [
    {
     "name": "stdout",
     "output_type": "stream",
     "text": [
      "\n",
      "Processing 'id' and 'title'...\n",
      "Found missing values in 'id' or 'title'. Dropping rows...\n",
      "'id' and 'title' cleaned.\n"
     ]
    }
   ],
   "source": [
    "#  --- Cleaning: `id` and `title` ---\n",
    "print(\"\\nProcessing 'id' and 'title'...\")\n",
    "# Check for nulls\n",
    "if df['id'].isnull().any() or df['title'].isnull().any():\n",
    "    print(\"Found missing values in 'id' or 'title'. Dropping rows...\")\n",
    "    df.dropna(subset=['id', 'title'], inplace=True)\n",
    "# Check for duplicates\n",
    "if df['id'].duplicated().any():\n",
    "    print(\"Found duplicate IDs. Dropping duplicates...\")\n",
    "    df.drop_duplicates(subset=['id'], keep='first', inplace=True)\n",
    "print(\"'id' and 'title' cleaned.\")"
   ]
  },
  {
   "cell_type": "code",
   "execution_count": 9,
   "id": "a31a1642",
   "metadata": {},
   "outputs": [
    {
     "data": {
      "text/plain": [
       "(5849, 15)"
      ]
     },
     "execution_count": 9,
     "metadata": {},
     "output_type": "execute_result"
    }
   ],
   "source": [
    "df.shape"
   ]
  },
  {
   "cell_type": "code",
   "execution_count": 10,
   "id": "2f2dc795",
   "metadata": {},
   "outputs": [
    {
     "name": "stdout",
     "output_type": "stream",
     "text": [
      "\n",
      "Processing 'type'...\n",
      "Unique values in 'type' before cleaning: ['SHOW' 'MOVIE']\n"
     ]
    }
   ],
   "source": [
    "# --- Cleaning: `type` ---\n",
    "print(\"\\nProcessing 'type'...\")\n",
    "print(f\"Unique values in 'type' before cleaning: {df['type'].unique()}\")"
   ]
  },
  {
   "cell_type": "code",
   "execution_count": 32,
   "id": "98c53fb7",
   "metadata": {},
   "outputs": [],
   "source": [
    "df.loc[:,'description'].fillna('No description available', inplace=True)"
   ]
  },
  {
   "cell_type": "code",
   "execution_count": 33,
   "id": "1e5a18f4",
   "metadata": {},
   "outputs": [
    {
     "name": "stderr",
     "output_type": "stream",
     "text": [
      "/var/folders/dq/qcxskqqd5610dcxb63kj_y8c0000gn/T/ipykernel_3989/2718380328.py:1: FutureWarning: A value is trying to be set on a copy of a DataFrame or Series through chained assignment using an inplace method.\n",
      "The behavior will change in pandas 3.0. This inplace method will never work because the intermediate object on which we are setting values always behaves as a copy.\n",
      "\n",
      "For example, when doing 'df[col].method(value, inplace=True)', try using 'df.method({col: value}, inplace=True)' or df[col] = df[col].method(value) instead, to perform the operation inplace on the original object.\n",
      "\n",
      "\n",
      "  df.loc[:,'age_certification'].fillna('Not Rated', inplace=True)\n"
     ]
    }
   ],
   "source": [
    "df.loc[:,'age_certification'].fillna('Not Rated', inplace=True)\n",
    "df.loc[:,'age_certification'] = df['age_certification'].replace({'NC-17': 'R', 'TV-Y7-FV': 'TV-Y7'})"
   ]
  },
  {
   "cell_type": "code",
   "execution_count": 12,
   "id": "f2649932",
   "metadata": {},
   "outputs": [
    {
     "name": "stdout",
     "output_type": "stream",
     "text": [
      "\n",
      "Processing 'age_certification'...\n",
      "Age certifications standardized. Unique values now: ['TV-MA' 'R' 'PG' 'Not Rated' 'TV-14' 'PG-13' 'TV-PG' 'TV-Y' 'TV-G'\n",
      " 'TV-Y7' 'G']\n"
     ]
    },
    {
     "name": "stderr",
     "output_type": "stream",
     "text": [
      "/var/folders/dq/qcxskqqd5610dcxb63kj_y8c0000gn/T/ipykernel_3989/1193959217.py:3: FutureWarning: A value is trying to be set on a copy of a DataFrame or Series through chained assignment using an inplace method.\n",
      "The behavior will change in pandas 3.0. This inplace method will never work because the intermediate object on which we are setting values always behaves as a copy.\n",
      "\n",
      "For example, when doing 'df[col].method(value, inplace=True)', try using 'df.method({col: value}, inplace=True)' or df[col] = df[col].method(value) instead, to perform the operation inplace on the original object.\n",
      "\n",
      "\n",
      "  df['age_certification'].fillna('Not Rated', inplace=True)\n"
     ]
    }
   ],
   "source": [
    "# --- Cleaning: `age_certification` ---\n",
    "print(\"\\nProcessing 'age_certification'...\")\n",
    "df['age_certification'].fillna('Not Rated', inplace=True)\n",
    "# Consolidate similar ratings\n",
    "df['age_certification'] = df['age_certification'].replace({'NC-17': 'R', 'TV-Y7-FV': 'TV-Y7'})\n",
    "print(f\"Age certifications standardized. Unique values now: {df['age_certification'].unique()}\")"
   ]
  },
  {
   "cell_type": "code",
   "execution_count": 18,
   "id": "7d1ba6d7",
   "metadata": {},
   "outputs": [
    {
     "name": "stdout",
     "output_type": "stream",
     "text": [
      "\n",
      "Processing 'genres' and 'production_countries'...\n",
      "'genres' and 'production_countries' converted to list objects.\n"
     ]
    }
   ],
   "source": [
    "# --- Cleaning: `genres` and `production_countries` ---\n",
    "print(\"\\nProcessing 'genres' and 'production_countries'...\")\n",
    "# Safely convert string representations of lists into actual lists\n",
    "def safe_literal_eval(s):\n",
    "    try:\n",
    "        # It's already a list for some reason in some environments, check type first\n",
    "        if isinstance(s, list):\n",
    "            return s\n",
    "        return ast.literal_eval(s)\n",
    "    except (ValueError, SyntaxError):\n",
    "        return [] # Return an empty list if parsing fails\n",
    "df['genres'] = df['genres'].apply(safe_literal_eval)\n",
    "df['production_countries'] = df['production_countries'].apply(safe_literal_eval)\n",
    "print(\"'genres' and 'production_countries' converted to list objects.\")"
   ]
  },
  {
   "cell_type": "code",
   "execution_count": 19,
   "id": "d815750c",
   "metadata": {},
   "outputs": [
    {
     "name": "stdout",
     "output_type": "stream",
     "text": [
      "\n",
      "Processing 'seasons'...\n",
      "'seasons' NaNs filled and column converted to integer.\n"
     ]
    },
    {
     "name": "stderr",
     "output_type": "stream",
     "text": [
      "/var/folders/dq/qcxskqqd5610dcxb63kj_y8c0000gn/T/ipykernel_3989/942353357.py:5: FutureWarning: A value is trying to be set on a copy of a DataFrame or Series through chained assignment using an inplace method.\n",
      "The behavior will change in pandas 3.0. This inplace method will never work because the intermediate object on which we are setting values always behaves as a copy.\n",
      "\n",
      "For example, when doing 'df[col].method(value, inplace=True)', try using 'df.method({col: value}, inplace=True)' or df[col] = df[col].method(value) instead, to perform the operation inplace on the original object.\n",
      "\n",
      "\n",
      "  df['seasons'].fillna(0, inplace=True)\n"
     ]
    }
   ],
   "source": [
    "# --- Cleaning: `seasons` ---\n",
    "print(\"\\nProcessing 'seasons'...\")\n",
    "# Fill NaN for movies with 0, as they don't have seasons.\n",
    "# For shows, NaN can mean data is missing, but 0 is a reasonable fill for consistency.\n",
    "df['seasons'].fillna(0, inplace=True)\n",
    "df['seasons'] = df['seasons'].astype(int)\n",
    "print(\"'seasons' NaNs filled and column converted to integer.\")"
   ]
  },
  {
   "cell_type": "code",
   "execution_count": 27,
   "id": "3fc6ee44",
   "metadata": {},
   "outputs": [],
   "source": [
    "# Fill NaN in 'seasons' with 0 for movies and shows for consistency\n",
    "df['seasons'] = df['seasons'].fillna(0).astype(int)"
   ]
  },
  {
   "cell_type": "code",
   "execution_count": 20,
   "id": "cb371735",
   "metadata": {},
   "outputs": [
    {
     "name": "stdout",
     "output_type": "stream",
     "text": [
      "Successfully loaded 5850 rows.\n",
      "Dropped 403 rows with missing IMDb IDs.\n",
      "Remaining rows: 5447\n"
     ]
    }
   ],
   "source": [
    "# --- Step 1: Load and Clean the Data for imdb---\n",
    "try:\n",
    "    # Load the dataset\n",
    "    df = pd.read_csv('titles.csv')\n",
    "    print(f\"Successfully loaded {len(df)} rows.\")\n",
    "\n",
    "    # Drop rows where 'imdb_id' is missing, as it's essential for this task\n",
    "    initial_rows = len(df)\n",
    "    df.dropna(subset=['imdb_id'], inplace=True)\n",
    "    print(f\"Dropped {initial_rows - len(df)} rows with missing IMDb IDs.\")\n",
    "    print(f\"Remaining rows: {len(df)}\")\n",
    "\n",
    "except FileNotFoundError:\n",
    "    print(\"Error: titles.csv not found. Please ensure the file is in the correct directory.\")\n",
    "    exit()\n"
   ]
  },
  {
   "cell_type": "code",
   "execution_count": 21,
   "id": "ec46897c",
   "metadata": {},
   "outputs": [
    {
     "name": "stdout",
     "output_type": "stream",
     "text": [
      "\n",
      "--- 2. Converting IMDb ID to a Numeric Rating ---\n",
      "Extracted numeric part from IMDb IDs.\n"
     ]
    }
   ],
   "source": [
    "# --- Step 2: Convert 'imdb_id' to a Numeric Score (1-10 Scale) ---\n",
    "print(\"\\n--- 2. Converting IMDb ID to a Numeric Rating ---\")\n",
    "\n",
    "# Extract the numeric part of the ID and convert to an integer\n",
    "# The 'tt' prefix is removed, and the remaining string is converted to a number.\n",
    "# Errors are coerced to NaN, which are then dropped.\n",
    "df['imdb_id_numeric'] = pd.to_numeric(df['imdb_id'].str.replace('tt', ''), errors='coerce')\n",
    "df.dropna(subset=['imdb_id_numeric'], inplace=True)\n",
    "df['imdb_id_numeric'] = df['imdb_id_numeric'].astype(int)\n",
    "\n",
    "print(\"Extracted numeric part from IMDb IDs.\")"
   ]
  },
  {
   "cell_type": "code",
   "execution_count": 22,
   "id": "507ed177",
   "metadata": {},
   "outputs": [
    {
     "name": "stdout",
     "output_type": "stream",
     "text": [
      "Created 'imdb_id_rating' by normalizing the numeric ID to a 1-10 scale.\n"
     ]
    }
   ],
   "source": [
    "# Normalize the numeric ID to a scale of 1 to 10\n",
    "min_id = df['imdb_id_numeric'].min()\n",
    "max_id = df['imdb_id_numeric'].max()\n",
    "\n",
    "# Min-Max normalization formula: new_value = 1 + ( (value - min) * 9 / (max - min) )\n",
    "# We scale from 1 to 10.\n",
    "df['imdb_id_rating'] = 1 + ((df['imdb_id_numeric'] - min_id) * 9 / (max_id - min_id))\n",
    "\n",
    "print(\"Created 'imdb_id_rating' by normalizing the numeric ID to a 1-10 scale.\")\n"
   ]
  },
  {
   "cell_type": "code",
   "execution_count": 28,
   "id": "44165edd",
   "metadata": {},
   "outputs": [
    {
     "data": {
      "text/html": [
       "<div>\n",
       "<style scoped>\n",
       "    .dataframe tbody tr th:only-of-type {\n",
       "        vertical-align: middle;\n",
       "    }\n",
       "\n",
       "    .dataframe tbody tr th {\n",
       "        vertical-align: top;\n",
       "    }\n",
       "\n",
       "    .dataframe thead th {\n",
       "        text-align: right;\n",
       "    }\n",
       "</style>\n",
       "<table border=\"1\" class=\"dataframe\">\n",
       "  <thead>\n",
       "    <tr style=\"text-align: right;\">\n",
       "      <th></th>\n",
       "      <th>id</th>\n",
       "      <th>title</th>\n",
       "      <th>type</th>\n",
       "      <th>description</th>\n",
       "      <th>release_year</th>\n",
       "      <th>age_certification</th>\n",
       "      <th>runtime</th>\n",
       "      <th>genres</th>\n",
       "      <th>production_countries</th>\n",
       "      <th>seasons</th>\n",
       "      <th>imdb_id</th>\n",
       "      <th>imdb_score</th>\n",
       "      <th>imdb_votes</th>\n",
       "      <th>tmdb_popularity</th>\n",
       "      <th>tmdb_score</th>\n",
       "      <th>imdb_id_numeric</th>\n",
       "      <th>imdb_id_rating</th>\n",
       "    </tr>\n",
       "  </thead>\n",
       "  <tbody>\n",
       "    <tr>\n",
       "      <th>1</th>\n",
       "      <td>tm84618</td>\n",
       "      <td>Taxi Driver</td>\n",
       "      <td>MOVIE</td>\n",
       "      <td>A mentally unstable Vietnam War veteran works ...</td>\n",
       "      <td>1976</td>\n",
       "      <td>R</td>\n",
       "      <td>114</td>\n",
       "      <td>['drama', 'crime']</td>\n",
       "      <td>['US']</td>\n",
       "      <td>0</td>\n",
       "      <td>tt0075314</td>\n",
       "      <td>8.2</td>\n",
       "      <td>808582</td>\n",
       "      <td>40.965</td>\n",
       "      <td>8.179</td>\n",
       "      <td>75314</td>\n",
       "      <td>1.011810</td>\n",
       "    </tr>\n",
       "    <tr>\n",
       "      <th>2</th>\n",
       "      <td>tm154986</td>\n",
       "      <td>Deliverance</td>\n",
       "      <td>MOVIE</td>\n",
       "      <td>Intent on seeing the Cahulawassee River before...</td>\n",
       "      <td>1972</td>\n",
       "      <td>R</td>\n",
       "      <td>109</td>\n",
       "      <td>['drama', 'action', 'thriller', 'european']</td>\n",
       "      <td>['US']</td>\n",
       "      <td>0</td>\n",
       "      <td>tt0068473</td>\n",
       "      <td>7.7</td>\n",
       "      <td>107673</td>\n",
       "      <td>10.010</td>\n",
       "      <td>7.300</td>\n",
       "      <td>68473</td>\n",
       "      <td>1.008905</td>\n",
       "    </tr>\n",
       "    <tr>\n",
       "      <th>3</th>\n",
       "      <td>tm127384</td>\n",
       "      <td>Monty Python and the Holy Grail</td>\n",
       "      <td>MOVIE</td>\n",
       "      <td>King Arthur, accompanied by his squire, recrui...</td>\n",
       "      <td>1975</td>\n",
       "      <td>PG</td>\n",
       "      <td>91</td>\n",
       "      <td>['fantasy', 'action', 'comedy']</td>\n",
       "      <td>['GB']</td>\n",
       "      <td>0</td>\n",
       "      <td>tt0071853</td>\n",
       "      <td>8.2</td>\n",
       "      <td>534486</td>\n",
       "      <td>15.461</td>\n",
       "      <td>7.811</td>\n",
       "      <td>71853</td>\n",
       "      <td>1.010341</td>\n",
       "    </tr>\n",
       "    <tr>\n",
       "      <th>4</th>\n",
       "      <td>tm120801</td>\n",
       "      <td>The Dirty Dozen</td>\n",
       "      <td>MOVIE</td>\n",
       "      <td>12 American military prisoners in World War II...</td>\n",
       "      <td>1967</td>\n",
       "      <td>NaN</td>\n",
       "      <td>150</td>\n",
       "      <td>['war', 'action']</td>\n",
       "      <td>['GB', 'US']</td>\n",
       "      <td>0</td>\n",
       "      <td>tt0061578</td>\n",
       "      <td>7.7</td>\n",
       "      <td>72662</td>\n",
       "      <td>20.398</td>\n",
       "      <td>7.600</td>\n",
       "      <td>61578</td>\n",
       "      <td>1.005978</td>\n",
       "    </tr>\n",
       "    <tr>\n",
       "      <th>5</th>\n",
       "      <td>ts22164</td>\n",
       "      <td>Monty Python's Flying Circus</td>\n",
       "      <td>SHOW</td>\n",
       "      <td>A British sketch comedy series with the shows ...</td>\n",
       "      <td>1969</td>\n",
       "      <td>TV-14</td>\n",
       "      <td>30</td>\n",
       "      <td>['comedy', 'european']</td>\n",
       "      <td>['GB']</td>\n",
       "      <td>4</td>\n",
       "      <td>tt0063929</td>\n",
       "      <td>8.8</td>\n",
       "      <td>73424</td>\n",
       "      <td>17.617</td>\n",
       "      <td>8.306</td>\n",
       "      <td>63929</td>\n",
       "      <td>1.006976</td>\n",
       "    </tr>\n",
       "  </tbody>\n",
       "</table>\n",
       "</div>"
      ],
      "text/plain": [
       "         id                            title   type  \\\n",
       "1   tm84618                      Taxi Driver  MOVIE   \n",
       "2  tm154986                      Deliverance  MOVIE   \n",
       "3  tm127384  Monty Python and the Holy Grail  MOVIE   \n",
       "4  tm120801                  The Dirty Dozen  MOVIE   \n",
       "5   ts22164     Monty Python's Flying Circus   SHOW   \n",
       "\n",
       "                                         description  release_year  \\\n",
       "1  A mentally unstable Vietnam War veteran works ...          1976   \n",
       "2  Intent on seeing the Cahulawassee River before...          1972   \n",
       "3  King Arthur, accompanied by his squire, recrui...          1975   \n",
       "4  12 American military prisoners in World War II...          1967   \n",
       "5  A British sketch comedy series with the shows ...          1969   \n",
       "\n",
       "  age_certification  runtime                                       genres  \\\n",
       "1                 R      114                           ['drama', 'crime']   \n",
       "2                 R      109  ['drama', 'action', 'thriller', 'european']   \n",
       "3                PG       91              ['fantasy', 'action', 'comedy']   \n",
       "4               NaN      150                            ['war', 'action']   \n",
       "5             TV-14       30                       ['comedy', 'european']   \n",
       "\n",
       "  production_countries  seasons    imdb_id  imdb_score  imdb_votes  \\\n",
       "1               ['US']        0  tt0075314         8.2      808582   \n",
       "2               ['US']        0  tt0068473         7.7      107673   \n",
       "3               ['GB']        0  tt0071853         8.2      534486   \n",
       "4         ['GB', 'US']        0  tt0061578         7.7       72662   \n",
       "5               ['GB']        4  tt0063929         8.8       73424   \n",
       "\n",
       "   tmdb_popularity  tmdb_score  imdb_id_numeric  imdb_id_rating  \n",
       "1           40.965       8.179            75314        1.011810  \n",
       "2           10.010       7.300            68473        1.008905  \n",
       "3           15.461       7.811            71853        1.010341  \n",
       "4           20.398       7.600            61578        1.005978  \n",
       "5           17.617       8.306            63929        1.006976  "
      ]
     },
     "execution_count": 28,
     "metadata": {},
     "output_type": "execute_result"
    }
   ],
   "source": [
    "df.head()"
   ]
  },
  {
   "cell_type": "code",
   "execution_count": 24,
   "id": "a8be3ad1",
   "metadata": {},
   "outputs": [
    {
     "name": "stdout",
     "output_type": "stream",
     "text": [
      "Filled NaNs in 'imdb_score' with median value (6.6).\n",
      "Filled NaNs in 'imdb_votes' with median value (2233.5).\n",
      "Filled NaNs in 'tmdb_popularity' with median value (7.1105).\n",
      "Filled NaNs in 'tmdb_score' with median value (6.9).\n",
      "'imdb_votes' converted to integer.\n"
     ]
    },
    {
     "name": "stderr",
     "output_type": "stream",
     "text": [
      "/var/folders/dq/qcxskqqd5610dcxb63kj_y8c0000gn/T/ipykernel_3989/893908357.py:6: FutureWarning: A value is trying to be set on a copy of a DataFrame or Series through chained assignment using an inplace method.\n",
      "The behavior will change in pandas 3.0. This inplace method will never work because the intermediate object on which we are setting values always behaves as a copy.\n",
      "\n",
      "For example, when doing 'df[col].method(value, inplace=True)', try using 'df.method({col: value}, inplace=True)' or df[col] = df[col].method(value) instead, to perform the operation inplace on the original object.\n",
      "\n",
      "\n",
      "  df[col].fillna(median_val, inplace=True)\n",
      "/var/folders/dq/qcxskqqd5610dcxb63kj_y8c0000gn/T/ipykernel_3989/893908357.py:6: FutureWarning: A value is trying to be set on a copy of a DataFrame or Series through chained assignment using an inplace method.\n",
      "The behavior will change in pandas 3.0. This inplace method will never work because the intermediate object on which we are setting values always behaves as a copy.\n",
      "\n",
      "For example, when doing 'df[col].method(value, inplace=True)', try using 'df.method({col: value}, inplace=True)' or df[col] = df[col].method(value) instead, to perform the operation inplace on the original object.\n",
      "\n",
      "\n",
      "  df[col].fillna(median_val, inplace=True)\n",
      "/var/folders/dq/qcxskqqd5610dcxb63kj_y8c0000gn/T/ipykernel_3989/893908357.py:6: FutureWarning: A value is trying to be set on a copy of a DataFrame or Series through chained assignment using an inplace method.\n",
      "The behavior will change in pandas 3.0. This inplace method will never work because the intermediate object on which we are setting values always behaves as a copy.\n",
      "\n",
      "For example, when doing 'df[col].method(value, inplace=True)', try using 'df.method({col: value}, inplace=True)' or df[col] = df[col].method(value) instead, to perform the operation inplace on the original object.\n",
      "\n",
      "\n",
      "  df[col].fillna(median_val, inplace=True)\n",
      "/var/folders/dq/qcxskqqd5610dcxb63kj_y8c0000gn/T/ipykernel_3989/893908357.py:6: FutureWarning: A value is trying to be set on a copy of a DataFrame or Series through chained assignment using an inplace method.\n",
      "The behavior will change in pandas 3.0. This inplace method will never work because the intermediate object on which we are setting values always behaves as a copy.\n",
      "\n",
      "For example, when doing 'df[col].method(value, inplace=True)', try using 'df.method({col: value}, inplace=True)' or df[col] = df[col].method(value) instead, to perform the operation inplace on the original object.\n",
      "\n",
      "\n",
      "  df[col].fillna(median_val, inplace=True)\n"
     ]
    }
   ],
   "source": [
    "# --- Cleaning: `imdb_score`, `imdb_votes`, `tmdb_popularity`, `tmdb_score` ---\n",
    "# Fill remaining numerical NaNs with the median for robustness against outliers\n",
    "for col in ['imdb_score', 'imdb_votes', 'tmdb_popularity', 'tmdb_score']:\n",
    "    if df[col].isnull().any():\n",
    "        median_val = df[col].median()\n",
    "        df[col].fillna(median_val, inplace=True)\n",
    "        print(f\"Filled NaNs in '{col}' with median value ({median_val}).\")\n",
    "\n",
    "# Convert imdb_votes to integer\n",
    "df['imdb_votes'] = df['imdb_votes'].astype(int)\n",
    "print(\"'imdb_votes' converted to integer.\")"
   ]
  },
  {
   "cell_type": "code",
   "execution_count": 34,
   "id": "706a8187",
   "metadata": {},
   "outputs": [
    {
     "name": "stdout",
     "output_type": "stream",
     "text": [
      "\n",
      "--- Data Cleaning Complete ---\n",
      "Final dataset summary:\n",
      "<class 'pandas.core.frame.DataFrame'>\n",
      "Index: 5447 entries, 1 to 5849\n",
      "Data columns (total 17 columns):\n",
      " #   Column                Non-Null Count  Dtype  \n",
      "---  ------                --------------  -----  \n",
      " 0   id                    5447 non-null   object \n",
      " 1   title                 5446 non-null   object \n",
      " 2   type                  5447 non-null   object \n",
      " 3   description           5447 non-null   object \n",
      " 4   release_year          5447 non-null   int64  \n",
      " 5   age_certification     5447 non-null   object \n",
      " 6   runtime               5447 non-null   int64  \n",
      " 7   genres                5447 non-null   object \n",
      " 8   production_countries  5447 non-null   object \n",
      " 9   seasons               5447 non-null   int64  \n",
      " 10  imdb_id               5447 non-null   object \n",
      " 11  imdb_score            5447 non-null   float64\n",
      " 12  imdb_votes            5447 non-null   int64  \n",
      " 13  tmdb_popularity       5447 non-null   float64\n",
      " 14  tmdb_score            5447 non-null   float64\n",
      " 15  imdb_id_numeric       5447 non-null   int64  \n",
      " 16  imdb_id_rating        5447 non-null   float64\n",
      "dtypes: float64(4), int64(5), object(8)\n",
      "memory usage: 766.0+ KB\n"
     ]
    }
   ],
   "source": [
    "print(\"\\n--- Data Cleaning Complete ---\")\n",
    "print(\"Final dataset summary:\")\n",
    "df.info()\n"
   ]
  },
  {
   "cell_type": "code",
   "execution_count": 35,
   "id": "17172cd1",
   "metadata": {},
   "outputs": [
    {
     "data": {
      "text/plain": [
       "id                      0\n",
       "title                   1\n",
       "type                    0\n",
       "description             0\n",
       "release_year            0\n",
       "age_certification       0\n",
       "runtime                 0\n",
       "genres                  0\n",
       "production_countries    0\n",
       "seasons                 0\n",
       "imdb_id                 0\n",
       "imdb_score              0\n",
       "imdb_votes              0\n",
       "tmdb_popularity         0\n",
       "tmdb_score              0\n",
       "imdb_id_numeric         0\n",
       "imdb_id_rating          0\n",
       "dtype: int64"
      ]
     },
     "execution_count": 35,
     "metadata": {},
     "output_type": "execute_result"
    }
   ],
   "source": [
    "df.isnull().sum()"
   ]
  }
 ],
 "metadata": {
  "kernelspec": {
   "display_name": "netflix-ai-agent",
   "language": "python",
   "name": "python3"
  },
  "language_info": {
   "codemirror_mode": {
    "name": "ipython",
    "version": 3
   },
   "file_extension": ".py",
   "mimetype": "text/x-python",
   "name": "python",
   "nbconvert_exporter": "python",
   "pygments_lexer": "ipython3",
   "version": "3.13.4"
  }
 },
 "nbformat": 4,
 "nbformat_minor": 5
}
